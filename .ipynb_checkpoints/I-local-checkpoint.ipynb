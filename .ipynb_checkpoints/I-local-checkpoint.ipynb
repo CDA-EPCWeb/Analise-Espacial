{
 "cells": [
  {
   "cell_type": "code",
   "execution_count": 1,
   "metadata": {},
   "outputs": [],
   "source": [
    "%matplotlib inline\n",
    "\n",
    "import pandas as pd\n",
    "import numpy as np\n",
    "import sqlite3\n",
    "import geopandas as gpd\n",
    "import geobr\n",
    "import matplotlib.pyplot as plt\n",
    "from libpysal.weights.contiguity import Queen\n",
    "import libpysal\n",
    "import esda\n",
    "from splot.esda import moran_scatterplot\n",
    "from splot.esda import lisa_cluster\n",
    "from splot.libpysal import plot_spatial_weights  # plota os pesos\n",
    "import math                                      # Raiz quadrada e funções trigonométricas\n",
    "import csv                                       # Escrever CSVs\n"
   ]
  },
  {
   "cell_type": "code",
   "execution_count": 2,
   "metadata": {},
   "outputs": [],
   "source": [
    "indicadores_db = \"///media//pedro//HD Externo//Teste//cidades//indicadores.db\"\n",
    "pop2020 = \"pop2020.csv\"\n",
    "ri = \"regioes_geograficas_composicao_por_municipios_2017_20180911.csv\""
   ]
  },
  {
   "cell_type": "code",
   "execution_count": 3,
   "metadata": {},
   "outputs": [],
   "source": [
    "csv_df = pd.read_csv(ri, delimiter=';')\n",
    "csv_df.rename(columns={'CD_GEOCODI':'city_ibge_code', 'nome_mun':'city','nome_rgi':'imediate_reg', 'cod_rgi':'imed_reg_code'}, inplace=True)\n",
    "csv_df = csv_df[['city_ibge_code','imediate_reg','imed_reg_code' ]].copy()\n",
    "csv_df = csv_df.sort_values(by=['imed_reg_code']).copy()\n",
    "csv_df['city_ibge_code'] = csv_df['city_ibge_code'].astype('int')\n",
    "\n",
    "pop_df = pd.read_csv(pop2020, index_col=0)\n",
    "pop_df.rename(columns={'Total':'total_inhabitants','Armenor':'city_ibge_code'},  inplace = True)\n",
    "pop_df['city_ibge_code'] = pop_df['city_ibge_code'].astype('int')\n",
    "pop_df = pd.merge(csv_df, pop_df,on='city_ibge_code', how='inner')\n"
   ]
  },
  {
   "cell_type": "code",
   "execution_count": 4,
   "metadata": {},
   "outputs": [],
   "source": [
    "#csv_df  #completo\n",
    "#pop_df  #completo"
   ]
  },
  {
   "cell_type": "code",
   "execution_count": 5,
   "metadata": {},
   "outputs": [],
   "source": [
    "pop_reg = pop_df[['imed_reg_code', 'total_inhabitants']].copy()\n",
    "pop_reg = pop_reg.groupby(pop_reg['imed_reg_code']).sum().reset_index()\n"
   ]
  },
  {
   "cell_type": "code",
   "execution_count": 6,
   "metadata": {},
   "outputs": [],
   "source": [
    "#pop_reg  completo"
   ]
  },
  {
   "cell_type": "code",
   "execution_count": 7,
   "metadata": {},
   "outputs": [],
   "source": [
    "#Leitura dos indicadores por região imediata\n",
    "cnx = sqlite3.connect(indicadores_db)\n",
    "cur = cnx.cursor()\n",
    "regimed_df = pd.read_sql_query(\"SELECT * FROM imedreg_df\", cnx)\n"
   ]
  },
  {
   "cell_type": "code",
   "execution_count": 8,
   "metadata": {},
   "outputs": [
    {
     "name": "stderr",
     "output_type": "stream",
     "text": [
      "/home/pedro/anaconda3/lib/python3.8/site-packages/geopandas/geodataframe.py:422: RuntimeWarning: Sequential read of iterator was interrupted. Resetting iterator. This can negatively impact the performance.\n",
      "  for feature in features_lst:\n"
     ]
    }
   ],
   "source": [
    "#Leitura da geometrias das regiões e merge com os indicadores\n",
    "ri_geo = geobr.read_immediate_region()\n",
    "ri_geo = ri_geo.rename(columns={'code_immediate':'imed_reg_code'})\n",
    "ri_geo['imed_reg_code'] = ri_geo['imed_reg_code'].astype(int)\n",
    "ri_geo = ri_geo.merge(regimed_df, on = 'imed_reg_code')\n",
    "\n",
    "base = ri_geo[ri_geo['epidemiological_week'] == 202036]\n",
    "base = pd.merge(base, pop_reg, on='imed_reg_code', how='inner')\n",
    "base = base.rename(columns={'total_inhabitants_y':'total_inhabitants'})"
   ]
  },
  {
   "cell_type": "code",
   "execution_count": 9,
   "metadata": {},
   "outputs": [],
   "source": [
    "#ri_geo   completo\n",
    "#base     completo"
   ]
  },
  {
   "cell_type": "code",
   "execution_count": 10,
   "metadata": {},
   "outputs": [
    {
     "name": "stderr",
     "output_type": "stream",
     "text": [
      "/home/pedro/anaconda3/lib/python3.8/site-packages/libpysal/weights/weights.py:172: UserWarning: The weights matrix is not fully connected: \n",
      " There are 7 disconnected components.\n",
      " There are 4 islands with ids: 24, 30, 133, 169.\n",
      "  warnings.warn(message)\n"
     ]
    },
    {
     "name": "stdout",
     "output_type": "stream",
     "text": [
      "('WARNING: ', 24, ' is an island (no neighbors)')\n",
      "('WARNING: ', 30, ' is an island (no neighbors)')\n",
      "('WARNING: ', 133, ' is an island (no neighbors)')\n",
      "('WARNING: ', 169, ' is an island (no neighbors)')\n"
     ]
    },
    {
     "name": "stderr",
     "output_type": "stream",
     "text": [
      "/home/pedro/anaconda3/lib/python3.8/site-packages/libpysal/weights/weights.py:172: UserWarning: The weights matrix is not fully connected: \n",
      " There are 2 disconnected components.\n",
      "  warnings.warn(message)\n"
     ]
    }
   ],
   "source": [
    "reg_code = base['imed_reg_code'].values.tolist()\n",
    "imedreg = base['name_immediate'].values.tolist()\n",
    "regions = base['region'].values.tolist()\n",
    "pop = base['total_inhabitants'].values.tolist()\n",
    "\n",
    "semana = 202046\n",
    "\n",
    "str_sem = semana\n",
    "\n",
    "#Alterar aqui para mudar a semana analisada\n",
    "sem = ri_geo[ri_geo['epidemiological_week'] == semana]\n",
    "\n",
    "#Cálculo do peso entre regiões\n",
    "weights = Queen.from_dataframe(sem)\n",
    "weights.transform = 'r'\n",
    "\n",
    "\n",
    "#Consertando os erros causados pela digitalização\n",
    "wnp = libpysal.weights.util.nonplanar_neighbors(weights, sem)\n",
    "wnp.transform = 'r'\n",
    "\n",
    "#Calcular spatial_auto\n",
    "spatial_auto = esda.Moran_Local(sem['incidence_cases'], wnp, permutations=100000)\n",
    "moran = esda.Moran(sem['incidence_cases'], wnp)\n",
    "\n",
    "#I_local\n",
    "local_Is = spatial_auto.Is\n",
    "list_Is = local_Is.tolist()"
   ]
  },
  {
   "cell_type": "code",
   "execution_count": 11,
   "metadata": {},
   "outputs": [],
   "source": [
    "#lisa_cluster(spatial_auto, sem, p=0.05, figsize = (20,15))"
   ]
  },
  {
   "cell_type": "code",
   "execution_count": 12,
   "metadata": {},
   "outputs": [
    {
     "data": {
      "text/plain": [
       "(<Figure size 504x504 with 1 Axes>,\n",
       " <AxesSubplot:title={'center':'Moran Local Scatterplot'}, xlabel='Attribute', ylabel='Spatial Lag'>)"
      ]
     },
     "execution_count": 12,
     "metadata": {},
     "output_type": "execute_result"
    },
    {
     "data": {
      "image/png": "[encoded data removed]",
      "text/plain": [
       "<Figure size 504x504 with 1 Axes>"
      ]
     },
     "metadata": {
      "needs_background": "light"
     },
     "output_type": "display_data"
    }
   ],
   "source": [
    "\n",
    "## Visualização do moran\n",
    "moran_scatterplot(spatial_auto, p=0.05)"
   ]
  },
  {
   "cell_type": "code",
   "execution_count": 13,
   "metadata": {},
   "outputs": [],
   "source": [
    "## Cálculo do lag espacial e incidencia espacial normalizados\n",
    "\n",
    "lag = libpysal.weights.spatial_lag.lag_spatial(wnp, sem['incidence_cases'])\n",
    "\n",
    "\n",
    "\n",
    "norm_lag = ( lag - lag.mean() )\\\n",
    "                   / lag.std()\n",
    "\n",
    "norm_incid = (sem['incidence_cases'] - sem['incidence_cases'].mean())\\\n",
    "                /sem['incidence_cases'].std()\n",
    "norm_incid = norm_incid.tolist()\n"
   ]
  },
  {
   "cell_type": "code",
   "execution_count": 14,
   "metadata": {},
   "outputs": [
    {
     "data": {
      "image/png": "[encoded data removed]",
      "text/plain": [
       "<Figure size 432x288 with 1 Axes>"
      ]
     },
     "metadata": {
      "needs_background": "light"
     },
     "output_type": "display_data"
    }
   ],
   "source": [
    "## Visuzalição da recosntrução do scatterplot de moran\n",
    "\n",
    "plt.plot(norm_incid, norm_lag, '.')\n",
    "\n",
    "plt.show()"
   ]
  },
  {
   "cell_type": "code",
   "execution_count": 15,
   "metadata": {},
   "outputs": [],
   "source": [
    "## Separando apenas os pontos significativos\n",
    "\n",
    "sim_norm_incid = []\n",
    "sim_norm_lag = []\n",
    "points = []\n",
    "cluster = spatial_auto.q.tolist()\n",
    "\n",
    "for i, auto in enumerate(spatial_auto.p_sim):\n",
    "    \n",
    "    sim = int(auto < 0.05)\n",
    "    sim_norm_incid.append(norm_incid[i] * sim)\n",
    "    sim_norm_lag.append(norm_lag[i] * sim)\n",
    "    points.append([sim_norm_incid[i],sim_norm_lag[i]])\n",
    "    cluster[i] = cluster[i] * sim \n",
    "\n"
   ]
  },
  {
   "cell_type": "code",
   "execution_count": 16,
   "metadata": {},
   "outputs": [
    {
     "data": {
      "image/png": "[encoded data removed]",
      "text/plain": [
       "<Figure size 432x288 with 1 Axes>"
      ]
     },
     "metadata": {
      "needs_background": "light"
     },
     "output_type": "display_data"
    }
   ],
   "source": [
    "plt.plot(sim_norm_incid, sim_norm_lag, '.')\n",
    "\n",
    "plt.show()"
   ]
  },
  {
   "cell_type": "code",
   "execution_count": 17,
   "metadata": {
    "scrolled": true
   },
   "outputs": [],
   "source": [
    "## Escrevendo os pontos como vetores em função do módulo e direção\n",
    "\n",
    "vetores = []\n",
    "\n",
    "for i, point in enumerate(points):\n",
    "    x = point[0]\n",
    "    y = point[1]\n",
    "    if x == 0:\n",
    "        if y < 0: \n",
    "            ang = 3 * (math.pi / 2)\n",
    "        else:\n",
    "            ang = (math.pi / 2) \n",
    "\n",
    "    elif x * y > 0:\n",
    "        ang = math.atan(y/x) + (math.pi * int(y < 0)) \n",
    "    else: \n",
    "        ang = math.atan(y/x) + math.pi * (int(y < 0) + 1)\n",
    "        \n",
    "    mod = math.sqrt(x*x + y*y)\n",
    "    if mod < 0:\n",
    "        print(mod)\n",
    "\n",
    "    \n",
    "    vetores.append([ang])\n",
    "    vetores[i].append(mod)\n"
   ]
  },
  {
   "cell_type": "code",
   "execution_count": 18,
   "metadata": {},
   "outputs": [],
   "source": [
    "\n",
    "# conferindo os resultados\n",
    "for i, point in enumerate(points):\n",
    "\n",
    "\n",
    "    x = round(point[0], 3)\n",
    "    y = round(point[1], 3)\n",
    "    x_est = round(math.cos(vetores[i][0]) * vetores[i][1], 3)\n",
    "    y_est = round(math.sin(vetores[i][0]) * vetores[i][1], 3)\n",
    "    if x != x_est or y != y_est:\n",
    "        print(x, y, x_est, y_est, vetores[i])\n",
    "        \n",
    "    mod = vetores[i][1]\n",
    "    \n",
    "    \n",
    "    if x > 0 and x * y > 0 and cluster[i] != 1:\n",
    "        print (x, y, mod, cluster[i])\n",
    "    elif x < 0 and x * y > 0 and cluster[i] != 3:\n",
    "        print (x, y, mod, cluster[i])\n",
    "    elif x > 0 and x * y < 0 and cluster[i] != 4:\n",
    "        print (x, y, mod, cluster[i])\n",
    "    elif x < 0 and x * y < 0 and cluster[i] != 2:\n",
    "        print (x, y, mod, cluster[i])\n",
    "    elif mod > 0 and cluster[i] == 0:\n",
    "        print (x, y, mod, cluster[i])\n",
    "    elif mod == 0 and cluster[i] != 0:\n",
    "        print (x, y, mod, cluster[i])\n",
    "    elif mod < 0:\n",
    "        print (x, y, mod, cluster[i])\n",
    "    "
   ]
  },
  {
   "cell_type": "code",
   "execution_count": 19,
   "metadata": {},
   "outputs": [
    {
     "data": {
      "text/plain": [
       "(510, 510, 510, 510, 510, 510)"
      ]
     },
     "execution_count": 19,
     "metadata": {},
     "output_type": "execute_result"
    }
   ],
   "source": [
    "len(imedreg), len(pop), len(points), len(vetores), len(regions), len(cluster)"
   ]
  },
  {
   "cell_type": "code",
   "execution_count": 20,
   "metadata": {},
   "outputs": [],
   "source": [
    "with open('imedreg_I_local.csv', 'w', encoding='utf-8', newline='') as lista:\n",
    "    writer = csv.writer(lista)\n",
    "    \n",
    "    writer.writerow((\"imedreg\", \"imedreg_code\", \"populacao\", \"incidencia_normalizada\", \"regiao\", 'cluster'))\n",
    "\n",
    "    for i in range(510):\n",
    "        writer.writerow((imedreg[i], reg_code[i], pop[i], norm_incid[i], regions[i], cluster[i]))"
   ]
  },
  {
   "cell_type": "code",
   "execution_count": 21,
   "metadata": {},
   "outputs": [
    {
     "data": {
      "text/plain": [
       "510"
      ]
     },
     "execution_count": 21,
     "metadata": {},
     "output_type": "execute_result"
    }
   ],
   "source": [
    "df = pd.read_csv('imedreg_I_local.csv')\n",
    "len(df)"
   ]
  },
  {
   "cell_type": "code",
   "execution_count": 22,
   "metadata": {},
   "outputs": [
    {
     "ename": "NameError",
     "evalue": "name 'semsdsdrsd' is not defined",
     "output_type": "error",
     "traceback": [
      "\u001b[0;31m---------------------------------------------------------------------------\u001b[0m",
      "\u001b[0;31mNameError\u001b[0m                                 Traceback (most recent call last)",
      "\u001b[0;32m<ipython-input-22-21f5ec845a93>\u001b[0m in \u001b[0;36m<module>\u001b[0;34m\u001b[0m\n\u001b[1;32m      1\u001b[0m \u001b[0msem\u001b[0m \u001b[0;34m=\u001b[0m \u001b[0mri_geo\u001b[0m\u001b[0;34m[\u001b[0m\u001b[0mri_geo\u001b[0m\u001b[0;34m[\u001b[0m\u001b[0;34m'epidemiological_week'\u001b[0m\u001b[0;34m]\u001b[0m \u001b[0;34m==\u001b[0m \u001b[0;36m202102\u001b[0m\u001b[0;34m]\u001b[0m\u001b[0;34m\u001b[0m\u001b[0;34m\u001b[0m\u001b[0m\n\u001b[0;32m----> 2\u001b[0;31m \u001b[0msemsdsdrsd\u001b[0m\u001b[0;34m\u001b[0m\u001b[0;34m\u001b[0m\u001b[0m\n\u001b[0m",
      "\u001b[0;31mNameError\u001b[0m: name 'semsdsdrsd' is not defined"
     ]
    }
   ],
   "source": [
    "sem = ri_geo[ri_geo['epidemiological_week'] == 202102]\n",
    "sems"
   ]
  },
  {
   "cell_type": "code",
   "execution_count": 10,
   "metadata": {},
   "outputs": [],
   "source": [
    "semanas = {202048, 202049, 202050, 202051, 202052, 202053, 202101, 202102, 202103, 202104, 202105, 202106, 202107, 202108, 202109, 202110, 202111,}"
   ]
  },
  {
   "cell_type": "code",
   "execution_count": 11,
   "metadata": {},
   "outputs": [],
   "source": [
    "semanas_1 = {202016, 202017, 202018, 202019, 202020, 202021, 202022, 202023, 202024, 202025, 202026, 202027, 202028, 202029, 202030, 202031, 202032, 202033}"
   ]
  },
  {
   "cell_type": "code",
   "execution_count": 25,
   "metadata": {},
   "outputs": [
    {
     "name": "stderr",
     "output_type": "stream",
     "text": [
      "/home/pedro/anaconda3/lib/python3.8/site-packages/libpysal/weights/weights.py:172: UserWarning: The weights matrix is not fully connected: \n",
      " There are 7 disconnected components.\n",
      " There are 4 islands with ids: 24, 30, 133, 169.\n",
      "  warnings.warn(message)\n"
     ]
    },
    {
     "name": "stdout",
     "output_type": "stream",
     "text": [
      "('WARNING: ', 24, ' is an island (no neighbors)')\n",
      "('WARNING: ', 30, ' is an island (no neighbors)')\n",
      "('WARNING: ', 133, ' is an island (no neighbors)')\n",
      "('WARNING: ', 169, ' is an island (no neighbors)')\n"
     ]
    },
    {
     "name": "stderr",
     "output_type": "stream",
     "text": [
      "/home/pedro/anaconda3/lib/python3.8/site-packages/libpysal/weights/weights.py:172: UserWarning: The weights matrix is not fully connected: \n",
      " There are 2 disconnected components.\n",
      "  warnings.warn(message)\n",
      "/home/pedro/anaconda3/lib/python3.8/site-packages/libpysal/weights/weights.py:172: UserWarning: The weights matrix is not fully connected: \n",
      " There are 7 disconnected components.\n",
      " There are 4 islands with ids: 24, 30, 133, 169.\n",
      "  warnings.warn(message)\n"
     ]
    },
    {
     "name": "stdout",
     "output_type": "stream",
     "text": [
      "('WARNING: ', 24, ' is an island (no neighbors)')\n",
      "('WARNING: ', 30, ' is an island (no neighbors)')\n",
      "('WARNING: ', 133, ' is an island (no neighbors)')\n",
      "('WARNING: ', 169, ' is an island (no neighbors)')\n"
     ]
    },
    {
     "name": "stderr",
     "output_type": "stream",
     "text": [
      "/home/pedro/anaconda3/lib/python3.8/site-packages/libpysal/weights/weights.py:172: UserWarning: The weights matrix is not fully connected: \n",
      " There are 2 disconnected components.\n",
      "  warnings.warn(message)\n",
      "/home/pedro/anaconda3/lib/python3.8/site-packages/libpysal/weights/weights.py:172: UserWarning: The weights matrix is not fully connected: \n",
      " There are 7 disconnected components.\n",
      " There are 4 islands with ids: 24, 30, 133, 169.\n",
      "  warnings.warn(message)\n"
     ]
    },
    {
     "name": "stdout",
     "output_type": "stream",
     "text": [
      "('WARNING: ', 24, ' is an island (no neighbors)')\n",
      "('WARNING: ', 30, ' is an island (no neighbors)')\n",
      "('WARNING: ', 133, ' is an island (no neighbors)')\n",
      "('WARNING: ', 169, ' is an island (no neighbors)')\n"
     ]
    },
    {
     "name": "stderr",
     "output_type": "stream",
     "text": [
      "/home/pedro/anaconda3/lib/python3.8/site-packages/libpysal/weights/weights.py:172: UserWarning: The weights matrix is not fully connected: \n",
      " There are 2 disconnected components.\n",
      "  warnings.warn(message)\n",
      "/home/pedro/anaconda3/lib/python3.8/site-packages/libpysal/weights/weights.py:172: UserWarning: The weights matrix is not fully connected: \n",
      " There are 7 disconnected components.\n",
      " There are 4 islands with ids: 24, 30, 133, 169.\n",
      "  warnings.warn(message)\n"
     ]
    },
    {
     "name": "stdout",
     "output_type": "stream",
     "text": [
      "('WARNING: ', 24, ' is an island (no neighbors)')\n",
      "('WARNING: ', 30, ' is an island (no neighbors)')\n",
      "('WARNING: ', 133, ' is an island (no neighbors)')\n",
      "('WARNING: ', 169, ' is an island (no neighbors)')\n"
     ]
    },
    {
     "name": "stderr",
     "output_type": "stream",
     "text": [
      "/home/pedro/anaconda3/lib/python3.8/site-packages/libpysal/weights/weights.py:172: UserWarning: The weights matrix is not fully connected: \n",
      " There are 2 disconnected components.\n",
      "  warnings.warn(message)\n",
      "/home/pedro/anaconda3/lib/python3.8/site-packages/libpysal/weights/weights.py:172: UserWarning: The weights matrix is not fully connected: \n",
      " There are 7 disconnected components.\n",
      " There are 4 islands with ids: 24, 30, 133, 169.\n",
      "  warnings.warn(message)\n"
     ]
    },
    {
     "name": "stdout",
     "output_type": "stream",
     "text": [
      "('WARNING: ', 24, ' is an island (no neighbors)')\n",
      "('WARNING: ', 30, ' is an island (no neighbors)')\n",
      "('WARNING: ', 133, ' is an island (no neighbors)')\n",
      "('WARNING: ', 169, ' is an island (no neighbors)')\n"
     ]
    },
    {
     "name": "stderr",
     "output_type": "stream",
     "text": [
      "/home/pedro/anaconda3/lib/python3.8/site-packages/libpysal/weights/weights.py:172: UserWarning: The weights matrix is not fully connected: \n",
      " There are 2 disconnected components.\n",
      "  warnings.warn(message)\n",
      "/home/pedro/anaconda3/lib/python3.8/site-packages/libpysal/weights/weights.py:172: UserWarning: The weights matrix is not fully connected: \n",
      " There are 7 disconnected components.\n",
      " There are 4 islands with ids: 24, 30, 133, 169.\n",
      "  warnings.warn(message)\n"
     ]
    },
    {
     "name": "stdout",
     "output_type": "stream",
     "text": [
      "('WARNING: ', 24, ' is an island (no neighbors)')\n",
      "('WARNING: ', 30, ' is an island (no neighbors)')\n",
      "('WARNING: ', 133, ' is an island (no neighbors)')\n",
      "('WARNING: ', 169, ' is an island (no neighbors)')\n"
     ]
    },
    {
     "name": "stderr",
     "output_type": "stream",
     "text": [
      "/home/pedro/anaconda3/lib/python3.8/site-packages/libpysal/weights/weights.py:172: UserWarning: The weights matrix is not fully connected: \n",
      " There are 2 disconnected components.\n",
      "  warnings.warn(message)\n",
      "/home/pedro/anaconda3/lib/python3.8/site-packages/libpysal/weights/weights.py:172: UserWarning: The weights matrix is not fully connected: \n",
      " There are 7 disconnected components.\n",
      " There are 4 islands with ids: 24, 30, 133, 169.\n",
      "  warnings.warn(message)\n"
     ]
    },
    {
     "name": "stdout",
     "output_type": "stream",
     "text": [
      "('WARNING: ', 24, ' is an island (no neighbors)')\n",
      "('WARNING: ', 30, ' is an island (no neighbors)')\n",
      "('WARNING: ', 133, ' is an island (no neighbors)')\n",
      "('WARNING: ', 169, ' is an island (no neighbors)')\n"
     ]
    },
    {
     "name": "stderr",
     "output_type": "stream",
     "text": [
      "/home/pedro/anaconda3/lib/python3.8/site-packages/libpysal/weights/weights.py:172: UserWarning: The weights matrix is not fully connected: \n",
      " There are 2 disconnected components.\n",
      "  warnings.warn(message)\n",
      "/home/pedro/anaconda3/lib/python3.8/site-packages/libpysal/weights/weights.py:172: UserWarning: The weights matrix is not fully connected: \n",
      " There are 7 disconnected components.\n",
      " There are 4 islands with ids: 24, 30, 133, 169.\n",
      "  warnings.warn(message)\n"
     ]
    },
    {
     "name": "stdout",
     "output_type": "stream",
     "text": [
      "('WARNING: ', 24, ' is an island (no neighbors)')\n",
      "('WARNING: ', 30, ' is an island (no neighbors)')\n",
      "('WARNING: ', 133, ' is an island (no neighbors)')\n",
      "('WARNING: ', 169, ' is an island (no neighbors)')\n"
     ]
    },
    {
     "name": "stderr",
     "output_type": "stream",
     "text": [
      "/home/pedro/anaconda3/lib/python3.8/site-packages/libpysal/weights/weights.py:172: UserWarning: The weights matrix is not fully connected: \n",
      " There are 2 disconnected components.\n",
      "  warnings.warn(message)\n",
      "/home/pedro/anaconda3/lib/python3.8/site-packages/libpysal/weights/weights.py:172: UserWarning: The weights matrix is not fully connected: \n",
      " There are 7 disconnected components.\n",
      " There are 4 islands with ids: 24, 30, 133, 169.\n",
      "  warnings.warn(message)\n"
     ]
    },
    {
     "name": "stdout",
     "output_type": "stream",
     "text": [
      "('WARNING: ', 24, ' is an island (no neighbors)')\n",
      "('WARNING: ', 30, ' is an island (no neighbors)')\n",
      "('WARNING: ', 133, ' is an island (no neighbors)')\n",
      "('WARNING: ', 169, ' is an island (no neighbors)')\n"
     ]
    },
    {
     "name": "stderr",
     "output_type": "stream",
     "text": [
      "/home/pedro/anaconda3/lib/python3.8/site-packages/libpysal/weights/weights.py:172: UserWarning: The weights matrix is not fully connected: \n",
      " There are 2 disconnected components.\n",
      "  warnings.warn(message)\n",
      "/home/pedro/anaconda3/lib/python3.8/site-packages/libpysal/weights/weights.py:172: UserWarning: The weights matrix is not fully connected: \n",
      " There are 7 disconnected components.\n",
      " There are 4 islands with ids: 24, 30, 133, 169.\n",
      "  warnings.warn(message)\n"
     ]
    },
    {
     "name": "stdout",
     "output_type": "stream",
     "text": [
      "('WARNING: ', 24, ' is an island (no neighbors)')\n",
      "('WARNING: ', 30, ' is an island (no neighbors)')\n",
      "('WARNING: ', 133, ' is an island (no neighbors)')\n",
      "('WARNING: ', 169, ' is an island (no neighbors)')\n"
     ]
    },
    {
     "name": "stderr",
     "output_type": "stream",
     "text": [
      "/home/pedro/anaconda3/lib/python3.8/site-packages/libpysal/weights/weights.py:172: UserWarning: The weights matrix is not fully connected: \n",
      " There are 2 disconnected components.\n",
      "  warnings.warn(message)\n",
      "/home/pedro/anaconda3/lib/python3.8/site-packages/libpysal/weights/weights.py:172: UserWarning: The weights matrix is not fully connected: \n",
      " There are 7 disconnected components.\n",
      " There are 4 islands with ids: 24, 30, 133, 169.\n",
      "  warnings.warn(message)\n"
     ]
    },
    {
     "name": "stdout",
     "output_type": "stream",
     "text": [
      "('WARNING: ', 24, ' is an island (no neighbors)')\n",
      "('WARNING: ', 30, ' is an island (no neighbors)')\n",
      "('WARNING: ', 133, ' is an island (no neighbors)')\n",
      "('WARNING: ', 169, ' is an island (no neighbors)')\n"
     ]
    },
    {
     "name": "stderr",
     "output_type": "stream",
     "text": [
      "/home/pedro/anaconda3/lib/python3.8/site-packages/libpysal/weights/weights.py:172: UserWarning: The weights matrix is not fully connected: \n",
      " There are 2 disconnected components.\n",
      "  warnings.warn(message)\n",
      "/home/pedro/anaconda3/lib/python3.8/site-packages/libpysal/weights/weights.py:172: UserWarning: The weights matrix is not fully connected: \n",
      " There are 7 disconnected components.\n",
      " There are 4 islands with ids: 24, 30, 133, 169.\n",
      "  warnings.warn(message)\n"
     ]
    },
    {
     "name": "stdout",
     "output_type": "stream",
     "text": [
      "('WARNING: ', 24, ' is an island (no neighbors)')\n",
      "('WARNING: ', 30, ' is an island (no neighbors)')\n",
      "('WARNING: ', 133, ' is an island (no neighbors)')\n",
      "('WARNING: ', 169, ' is an island (no neighbors)')\n"
     ]
    },
    {
     "name": "stderr",
     "output_type": "stream",
     "text": [
      "/home/pedro/anaconda3/lib/python3.8/site-packages/libpysal/weights/weights.py:172: UserWarning: The weights matrix is not fully connected: \n",
      " There are 2 disconnected components.\n",
      "  warnings.warn(message)\n",
      "/home/pedro/anaconda3/lib/python3.8/site-packages/libpysal/weights/weights.py:172: UserWarning: The weights matrix is not fully connected: \n",
      " There are 7 disconnected components.\n",
      " There are 4 islands with ids: 24, 30, 133, 169.\n",
      "  warnings.warn(message)\n"
     ]
    },
    {
     "name": "stdout",
     "output_type": "stream",
     "text": [
      "('WARNING: ', 24, ' is an island (no neighbors)')\n",
      "('WARNING: ', 30, ' is an island (no neighbors)')\n",
      "('WARNING: ', 133, ' is an island (no neighbors)')\n",
      "('WARNING: ', 169, ' is an island (no neighbors)')\n"
     ]
    },
    {
     "name": "stderr",
     "output_type": "stream",
     "text": [
      "/home/pedro/anaconda3/lib/python3.8/site-packages/libpysal/weights/weights.py:172: UserWarning: The weights matrix is not fully connected: \n",
      " There are 2 disconnected components.\n",
      "  warnings.warn(message)\n",
      "/home/pedro/anaconda3/lib/python3.8/site-packages/libpysal/weights/weights.py:172: UserWarning: The weights matrix is not fully connected: \n",
      " There are 7 disconnected components.\n",
      " There are 4 islands with ids: 24, 30, 133, 169.\n",
      "  warnings.warn(message)\n"
     ]
    },
    {
     "name": "stdout",
     "output_type": "stream",
     "text": [
      "('WARNING: ', 24, ' is an island (no neighbors)')\n",
      "('WARNING: ', 30, ' is an island (no neighbors)')\n",
      "('WARNING: ', 133, ' is an island (no neighbors)')\n",
      "('WARNING: ', 169, ' is an island (no neighbors)')\n"
     ]
    },
    {
     "name": "stderr",
     "output_type": "stream",
     "text": [
      "/home/pedro/anaconda3/lib/python3.8/site-packages/libpysal/weights/weights.py:172: UserWarning: The weights matrix is not fully connected: \n",
      " There are 2 disconnected components.\n",
      "  warnings.warn(message)\n",
      "/home/pedro/anaconda3/lib/python3.8/site-packages/libpysal/weights/weights.py:172: UserWarning: The weights matrix is not fully connected: \n",
      " There are 7 disconnected components.\n",
      " There are 4 islands with ids: 24, 30, 133, 169.\n",
      "  warnings.warn(message)\n"
     ]
    },
    {
     "name": "stdout",
     "output_type": "stream",
     "text": [
      "('WARNING: ', 24, ' is an island (no neighbors)')\n",
      "('WARNING: ', 30, ' is an island (no neighbors)')\n",
      "('WARNING: ', 133, ' is an island (no neighbors)')\n",
      "('WARNING: ', 169, ' is an island (no neighbors)')\n"
     ]
    },
    {
     "name": "stderr",
     "output_type": "stream",
     "text": [
      "/home/pedro/anaconda3/lib/python3.8/site-packages/libpysal/weights/weights.py:172: UserWarning: The weights matrix is not fully connected: \n",
      " There are 2 disconnected components.\n",
      "  warnings.warn(message)\n",
      "/home/pedro/anaconda3/lib/python3.8/site-packages/libpysal/weights/weights.py:172: UserWarning: The weights matrix is not fully connected: \n",
      " There are 7 disconnected components.\n",
      " There are 4 islands with ids: 24, 30, 133, 169.\n",
      "  warnings.warn(message)\n"
     ]
    },
    {
     "name": "stdout",
     "output_type": "stream",
     "text": [
      "('WARNING: ', 24, ' is an island (no neighbors)')\n",
      "('WARNING: ', 30, ' is an island (no neighbors)')\n",
      "('WARNING: ', 133, ' is an island (no neighbors)')\n",
      "('WARNING: ', 169, ' is an island (no neighbors)')\n"
     ]
    },
    {
     "name": "stderr",
     "output_type": "stream",
     "text": [
      "/home/pedro/anaconda3/lib/python3.8/site-packages/libpysal/weights/weights.py:172: UserWarning: The weights matrix is not fully connected: \n",
      " There are 2 disconnected components.\n",
      "  warnings.warn(message)\n",
      "/home/pedro/anaconda3/lib/python3.8/site-packages/libpysal/weights/weights.py:172: UserWarning: The weights matrix is not fully connected: \n",
      " There are 7 disconnected components.\n",
      " There are 4 islands with ids: 24, 30, 133, 169.\n",
      "  warnings.warn(message)\n"
     ]
    },
    {
     "name": "stdout",
     "output_type": "stream",
     "text": [
      "('WARNING: ', 24, ' is an island (no neighbors)')\n",
      "('WARNING: ', 30, ' is an island (no neighbors)')\n",
      "('WARNING: ', 133, ' is an island (no neighbors)')\n",
      "('WARNING: ', 169, ' is an island (no neighbors)')\n"
     ]
    },
    {
     "name": "stderr",
     "output_type": "stream",
     "text": [
      "/home/pedro/anaconda3/lib/python3.8/site-packages/libpysal/weights/weights.py:172: UserWarning: The weights matrix is not fully connected: \n",
      " There are 2 disconnected components.\n",
      "  warnings.warn(message)\n",
      "/home/pedro/anaconda3/lib/python3.8/site-packages/libpysal/weights/weights.py:172: UserWarning: The weights matrix is not fully connected: \n",
      " There are 7 disconnected components.\n",
      " There are 4 islands with ids: 24, 30, 133, 169.\n",
      "  warnings.warn(message)\n"
     ]
    },
    {
     "name": "stdout",
     "output_type": "stream",
     "text": [
      "('WARNING: ', 24, ' is an island (no neighbors)')\n",
      "('WARNING: ', 30, ' is an island (no neighbors)')\n",
      "('WARNING: ', 133, ' is an island (no neighbors)')\n",
      "('WARNING: ', 169, ' is an island (no neighbors)')\n"
     ]
    },
    {
     "name": "stderr",
     "output_type": "stream",
     "text": [
      "/home/pedro/anaconda3/lib/python3.8/site-packages/libpysal/weights/weights.py:172: UserWarning: The weights matrix is not fully connected: \n",
      " There are 2 disconnected components.\n",
      "  warnings.warn(message)\n"
     ]
    }
   ],
   "source": [
    "imedreg = base['name_immediate'].values.tolist()\n",
    "reg_code = base['imed_reg_code'].values.tolist()\n",
    "region = base['region'].values.tolist()\n",
    "pop = base['total_inhabitants'].values.tolist()\n",
    "\n",
    "for semana in semanas_1:\n",
    "    str_sem = str(semana)\n",
    "\n",
    "    \n",
    "    #Alterar aqui para mudar a semana analisada\n",
    "    sem = ri_geo[ri_geo['epidemiological_week'] == semana]\n",
    "\n",
    "    \n",
    "    #Cálculo do peso entre regiões\n",
    "    weights = Queen.from_dataframe(sem)\n",
    "    weights.transform = 'r'\n",
    "\n",
    "\n",
    "    #Consertando os erros causados pela digitalização\n",
    "    wnp = libpysal.weights.util.nonplanar_neighbors(weights, sem)\n",
    "    wnp.transform = 'r'\n",
    "\n",
    "    #Calcular spatial_auto\n",
    "    spatial_auto = esda.Moran_Local(sem['incidence_cases'], wnp, permutations=100000)\n",
    "    moran = esda.Moran(sem['incidence_cases'], wnp)\n",
    "\n",
    "    \n",
    "    \n",
    "    #I_local\n",
    "    local_Is = spatial_auto.Is\n",
    "    list_Is = local_Is.tolist()\n",
    "    \n",
    "    \n",
    "    \n",
    "    ## Cálculo do lag espacial e incidencia espacial normalizados\n",
    "    lag = libpysal.weights.spatial_lag.lag_spatial(wnp, sem['incidence_cases'])\n",
    "    norm_lag = ( lag - lag.mean() )\\\n",
    "                       / lag.std()\n",
    "\n",
    "    norm_incid = (sem['incidence_cases'] - sem['incidence_cases'].mean())\\\n",
    "                    /sem['incidence_cases'].std()\n",
    "    norm_incid = norm_incid.tolist()\n",
    "\n",
    "    \n",
    "    \n",
    "    ## Separando apenas os pontos significativos\n",
    "    sim_norm_incid = []\n",
    "    sim_norm_lag = []\n",
    "    points = []\n",
    "    cluster = spatial_auto.q.tolist()\n",
    "\n",
    "    for i, auto in enumerate(spatial_auto.p_sim):\n",
    "        sim = int(auto < 0.05)\n",
    "        sim_norm_incid.append(norm_incid[i] * sim)\n",
    "        sim_norm_lag.append(norm_lag[i] * sim)\n",
    "        points.append([sim_norm_incid[i],sim_norm_lag[i]])\n",
    "        cluster[i] = cluster[i] * sim \n",
    "\n",
    "\n",
    "\n",
    "        \n",
    "    ## Escrevendo os pontos como vetores em função do módulo e direção\n",
    "    vetores = []\n",
    "\n",
    "    for i, point in enumerate(points):\n",
    "        x = point[0]\n",
    "        y = point[1]\n",
    "        if x == 0:\n",
    "            if y < 0: \n",
    "                ang = 3 * (math.pi / 2)\n",
    "            else:\n",
    "                ang = (math.pi / 2) \n",
    "                \n",
    "        elif x * y > 0:\n",
    "            ang = math.atan(y/x) + (math.pi * int(y < 0)) \n",
    "        else: \n",
    "            ang = math.atan(y/x) + math.pi * (int(y < 0) + 1)\n",
    "\n",
    "        mod = math.sqrt(x*x + y*y)\n",
    "        if mod < 0:\n",
    "            print(mod)\n",
    "            break\n",
    "        vetores.append([ang])\n",
    "        vetores[i].append(mod)\n",
    "\n",
    "\n",
    "       \n",
    "    # conferindo os resultados\n",
    "    for i, point in enumerate(points):\n",
    "\n",
    "\n",
    "        x = round(point[0], 3)\n",
    "        y = round(point[1], 3)\n",
    "        x_est = round(math.cos(vetores[i][0]) * vetores[i][1], 3)\n",
    "        y_est = round(math.sin(vetores[i][0]) * vetores[i][1], 3)\n",
    "        if x != x_est or y != y_est:\n",
    "            print(x, y, x_est, y_est, vetores[i])\n",
    "\n",
    "        mod = vetores[i][1]\n",
    "\n",
    "\n",
    "        if x > 0 and x * y > 0 and cluster[i] != 1:\n",
    "            print (x, y, mod, cluster[i])\n",
    "            break\n",
    "        elif x < 0 and x * y > 0 and cluster[i] != 3:\n",
    "            print (x, y, mod, cluster[i])\n",
    "            break\n",
    "        elif x > 0 and x * y < 0 and cluster[i] != 4:\n",
    "            print (x, y, mod, cluster[i])\n",
    "            break\n",
    "        elif x < 0 and x * y < 0 and cluster[i] != 2:\n",
    "            print (x, y, mod, cluster[i])\n",
    "            break\n",
    "        elif mod > 0 and cluster[i] == 0:\n",
    "            print (x, y, mod, cluster[i])\n",
    "            break\n",
    "        elif mod == 0 and cluster[i] != 0:\n",
    "            print (x, y, mod, cluster[i])\n",
    "            break\n",
    "        elif mod < 0:\n",
    "            print (x, y, mod, cluster[i])\n",
    "            break\n",
    "\n",
    "\n",
    "    \n",
    "        \n",
    "    #Escreve CSV\n",
    "    with open('imedreg_incidencia_' + str_sem + '.csv', 'w', encoding='utf-8', newline='') as lista:\n",
    "        writer = csv.writer(lista)\n",
    "\n",
    "        writer.writerow((\"imedreg\", \"imedreg_code\" \"populacao\", \"incidencia_normalizada\", \"regiao\", 'cluster'))\n",
    "\n",
    "        for i in range(510):\n",
    "            writer.writerow((imedreg[i], reg_code[i], pop[i], norm_incid[i], region[i], cluster[i]))\n",
    "            \n",
    "\n",
    "            "
   ]
  },
  {
   "cell_type": "code",
   "execution_count": null,
   "metadata": {},
   "outputs": [],
   "source": []
  },
  {
   "cell_type": "code",
   "execution_count": 20,
   "metadata": {},
   "outputs": [
    {
     "name": "stderr",
     "output_type": "stream",
     "text": [
      "/home/pedro/anaconda3/lib/python3.8/site-packages/libpysal/weights/weights.py:172: UserWarning: The weights matrix is not fully connected: \n",
      " There are 7 disconnected components.\n",
      " There are 4 islands with ids: 24, 30, 133, 169.\n",
      "  warnings.warn(message)\n"
     ]
    },
    {
     "name": "stdout",
     "output_type": "stream",
     "text": [
      "('WARNING: ', 24, ' is an island (no neighbors)')\n",
      "('WARNING: ', 30, ' is an island (no neighbors)')\n",
      "('WARNING: ', 133, ' is an island (no neighbors)')\n",
      "('WARNING: ', 169, ' is an island (no neighbors)')\n"
     ]
    },
    {
     "name": "stderr",
     "output_type": "stream",
     "text": [
      "/home/pedro/anaconda3/lib/python3.8/site-packages/libpysal/weights/weights.py:172: UserWarning: The weights matrix is not fully connected: \n",
      " There are 2 disconnected components.\n",
      "  warnings.warn(message)\n",
      "/home/pedro/anaconda3/lib/python3.8/site-packages/libpysal/weights/weights.py:172: UserWarning: The weights matrix is not fully connected: \n",
      " There are 7 disconnected components.\n",
      " There are 4 islands with ids: 24, 30, 133, 169.\n",
      "  warnings.warn(message)\n"
     ]
    },
    {
     "name": "stdout",
     "output_type": "stream",
     "text": [
      "('WARNING: ', 24, ' is an island (no neighbors)')\n",
      "('WARNING: ', 30, ' is an island (no neighbors)')\n",
      "('WARNING: ', 133, ' is an island (no neighbors)')\n",
      "('WARNING: ', 169, ' is an island (no neighbors)')\n"
     ]
    },
    {
     "name": "stderr",
     "output_type": "stream",
     "text": [
      "/home/pedro/anaconda3/lib/python3.8/site-packages/libpysal/weights/weights.py:172: UserWarning: The weights matrix is not fully connected: \n",
      " There are 2 disconnected components.\n",
      "  warnings.warn(message)\n",
      "/home/pedro/anaconda3/lib/python3.8/site-packages/libpysal/weights/weights.py:172: UserWarning: The weights matrix is not fully connected: \n",
      " There are 7 disconnected components.\n",
      " There are 4 islands with ids: 24, 30, 133, 169.\n",
      "  warnings.warn(message)\n"
     ]
    },
    {
     "name": "stdout",
     "output_type": "stream",
     "text": [
      "('WARNING: ', 24, ' is an island (no neighbors)')\n",
      "('WARNING: ', 30, ' is an island (no neighbors)')\n",
      "('WARNING: ', 133, ' is an island (no neighbors)')\n",
      "('WARNING: ', 169, ' is an island (no neighbors)')\n"
     ]
    },
    {
     "name": "stderr",
     "output_type": "stream",
     "text": [
      "/home/pedro/anaconda3/lib/python3.8/site-packages/libpysal/weights/weights.py:172: UserWarning: The weights matrix is not fully connected: \n",
      " There are 2 disconnected components.\n",
      "  warnings.warn(message)\n",
      "/home/pedro/anaconda3/lib/python3.8/site-packages/libpysal/weights/weights.py:172: UserWarning: The weights matrix is not fully connected: \n",
      " There are 7 disconnected components.\n",
      " There are 4 islands with ids: 24, 30, 133, 169.\n",
      "  warnings.warn(message)\n"
     ]
    },
    {
     "name": "stdout",
     "output_type": "stream",
     "text": [
      "('WARNING: ', 24, ' is an island (no neighbors)')\n",
      "('WARNING: ', 30, ' is an island (no neighbors)')\n",
      "('WARNING: ', 133, ' is an island (no neighbors)')\n",
      "('WARNING: ', 169, ' is an island (no neighbors)')\n"
     ]
    },
    {
     "name": "stderr",
     "output_type": "stream",
     "text": [
      "/home/pedro/anaconda3/lib/python3.8/site-packages/libpysal/weights/weights.py:172: UserWarning: The weights matrix is not fully connected: \n",
      " There are 2 disconnected components.\n",
      "  warnings.warn(message)\n",
      "/home/pedro/anaconda3/lib/python3.8/site-packages/libpysal/weights/weights.py:172: UserWarning: The weights matrix is not fully connected: \n",
      " There are 7 disconnected components.\n",
      " There are 4 islands with ids: 24, 30, 133, 169.\n",
      "  warnings.warn(message)\n"
     ]
    },
    {
     "name": "stdout",
     "output_type": "stream",
     "text": [
      "('WARNING: ', 24, ' is an island (no neighbors)')\n",
      "('WARNING: ', 30, ' is an island (no neighbors)')\n",
      "('WARNING: ', 133, ' is an island (no neighbors)')\n",
      "('WARNING: ', 169, ' is an island (no neighbors)')\n"
     ]
    },
    {
     "name": "stderr",
     "output_type": "stream",
     "text": [
      "/home/pedro/anaconda3/lib/python3.8/site-packages/libpysal/weights/weights.py:172: UserWarning: The weights matrix is not fully connected: \n",
      " There are 2 disconnected components.\n",
      "  warnings.warn(message)\n",
      "/home/pedro/anaconda3/lib/python3.8/site-packages/libpysal/weights/weights.py:172: UserWarning: The weights matrix is not fully connected: \n",
      " There are 7 disconnected components.\n",
      " There are 4 islands with ids: 24, 30, 133, 169.\n",
      "  warnings.warn(message)\n"
     ]
    },
    {
     "name": "stdout",
     "output_type": "stream",
     "text": [
      "('WARNING: ', 24, ' is an island (no neighbors)')\n",
      "('WARNING: ', 30, ' is an island (no neighbors)')\n",
      "('WARNING: ', 133, ' is an island (no neighbors)')\n",
      "('WARNING: ', 169, ' is an island (no neighbors)')\n"
     ]
    },
    {
     "name": "stderr",
     "output_type": "stream",
     "text": [
      "/home/pedro/anaconda3/lib/python3.8/site-packages/libpysal/weights/weights.py:172: UserWarning: The weights matrix is not fully connected: \n",
      " There are 2 disconnected components.\n",
      "  warnings.warn(message)\n",
      "/home/pedro/anaconda3/lib/python3.8/site-packages/libpysal/weights/weights.py:172: UserWarning: The weights matrix is not fully connected: \n",
      " There are 7 disconnected components.\n",
      " There are 4 islands with ids: 24, 30, 133, 169.\n",
      "  warnings.warn(message)\n"
     ]
    },
    {
     "name": "stdout",
     "output_type": "stream",
     "text": [
      "('WARNING: ', 24, ' is an island (no neighbors)')\n",
      "('WARNING: ', 30, ' is an island (no neighbors)')\n",
      "('WARNING: ', 133, ' is an island (no neighbors)')\n",
      "('WARNING: ', 169, ' is an island (no neighbors)')\n"
     ]
    },
    {
     "name": "stderr",
     "output_type": "stream",
     "text": [
      "/home/pedro/anaconda3/lib/python3.8/site-packages/libpysal/weights/weights.py:172: UserWarning: The weights matrix is not fully connected: \n",
      " There are 2 disconnected components.\n",
      "  warnings.warn(message)\n",
      "/home/pedro/anaconda3/lib/python3.8/site-packages/libpysal/weights/weights.py:172: UserWarning: The weights matrix is not fully connected: \n",
      " There are 7 disconnected components.\n",
      " There are 4 islands with ids: 24, 30, 133, 169.\n",
      "  warnings.warn(message)\n"
     ]
    },
    {
     "name": "stdout",
     "output_type": "stream",
     "text": [
      "('WARNING: ', 24, ' is an island (no neighbors)')\n",
      "('WARNING: ', 30, ' is an island (no neighbors)')\n",
      "('WARNING: ', 133, ' is an island (no neighbors)')\n",
      "('WARNING: ', 169, ' is an island (no neighbors)')\n"
     ]
    },
    {
     "name": "stderr",
     "output_type": "stream",
     "text": [
      "/home/pedro/anaconda3/lib/python3.8/site-packages/libpysal/weights/weights.py:172: UserWarning: The weights matrix is not fully connected: \n",
      " There are 2 disconnected components.\n",
      "  warnings.warn(message)\n",
      "/home/pedro/anaconda3/lib/python3.8/site-packages/libpysal/weights/weights.py:172: UserWarning: The weights matrix is not fully connected: \n",
      " There are 7 disconnected components.\n",
      " There are 4 islands with ids: 24, 30, 133, 169.\n",
      "  warnings.warn(message)\n"
     ]
    },
    {
     "name": "stdout",
     "output_type": "stream",
     "text": [
      "('WARNING: ', 24, ' is an island (no neighbors)')\n",
      "('WARNING: ', 30, ' is an island (no neighbors)')\n",
      "('WARNING: ', 133, ' is an island (no neighbors)')\n",
      "('WARNING: ', 169, ' is an island (no neighbors)')\n"
     ]
    },
    {
     "name": "stderr",
     "output_type": "stream",
     "text": [
      "/home/pedro/anaconda3/lib/python3.8/site-packages/libpysal/weights/weights.py:172: UserWarning: The weights matrix is not fully connected: \n",
      " There are 2 disconnected components.\n",
      "  warnings.warn(message)\n",
      "/home/pedro/anaconda3/lib/python3.8/site-packages/libpysal/weights/weights.py:172: UserWarning: The weights matrix is not fully connected: \n",
      " There are 7 disconnected components.\n",
      " There are 4 islands with ids: 24, 30, 133, 169.\n",
      "  warnings.warn(message)\n"
     ]
    },
    {
     "name": "stdout",
     "output_type": "stream",
     "text": [
      "('WARNING: ', 24, ' is an island (no neighbors)')\n",
      "('WARNING: ', 30, ' is an island (no neighbors)')\n",
      "('WARNING: ', 133, ' is an island (no neighbors)')\n",
      "('WARNING: ', 169, ' is an island (no neighbors)')\n"
     ]
    },
    {
     "name": "stderr",
     "output_type": "stream",
     "text": [
      "/home/pedro/anaconda3/lib/python3.8/site-packages/libpysal/weights/weights.py:172: UserWarning: The weights matrix is not fully connected: \n",
      " There are 2 disconnected components.\n",
      "  warnings.warn(message)\n",
      "/home/pedro/anaconda3/lib/python3.8/site-packages/libpysal/weights/weights.py:172: UserWarning: The weights matrix is not fully connected: \n",
      " There are 7 disconnected components.\n",
      " There are 4 islands with ids: 24, 30, 133, 169.\n",
      "  warnings.warn(message)\n"
     ]
    },
    {
     "name": "stdout",
     "output_type": "stream",
     "text": [
      "('WARNING: ', 24, ' is an island (no neighbors)')\n",
      "('WARNING: ', 30, ' is an island (no neighbors)')\n",
      "('WARNING: ', 133, ' is an island (no neighbors)')\n",
      "('WARNING: ', 169, ' is an island (no neighbors)')\n"
     ]
    },
    {
     "name": "stderr",
     "output_type": "stream",
     "text": [
      "/home/pedro/anaconda3/lib/python3.8/site-packages/libpysal/weights/weights.py:172: UserWarning: The weights matrix is not fully connected: \n",
      " There are 2 disconnected components.\n",
      "  warnings.warn(message)\n",
      "/home/pedro/anaconda3/lib/python3.8/site-packages/libpysal/weights/weights.py:172: UserWarning: The weights matrix is not fully connected: \n",
      " There are 7 disconnected components.\n",
      " There are 4 islands with ids: 24, 30, 133, 169.\n",
      "  warnings.warn(message)\n"
     ]
    },
    {
     "name": "stdout",
     "output_type": "stream",
     "text": [
      "('WARNING: ', 24, ' is an island (no neighbors)')\n",
      "('WARNING: ', 30, ' is an island (no neighbors)')\n",
      "('WARNING: ', 133, ' is an island (no neighbors)')\n",
      "('WARNING: ', 169, ' is an island (no neighbors)')\n"
     ]
    },
    {
     "name": "stderr",
     "output_type": "stream",
     "text": [
      "/home/pedro/anaconda3/lib/python3.8/site-packages/libpysal/weights/weights.py:172: UserWarning: The weights matrix is not fully connected: \n",
      " There are 2 disconnected components.\n",
      "  warnings.warn(message)\n",
      "/home/pedro/anaconda3/lib/python3.8/site-packages/libpysal/weights/weights.py:172: UserWarning: The weights matrix is not fully connected: \n",
      " There are 7 disconnected components.\n",
      " There are 4 islands with ids: 24, 30, 133, 169.\n",
      "  warnings.warn(message)\n"
     ]
    },
    {
     "name": "stdout",
     "output_type": "stream",
     "text": [
      "('WARNING: ', 24, ' is an island (no neighbors)')\n",
      "('WARNING: ', 30, ' is an island (no neighbors)')\n",
      "('WARNING: ', 133, ' is an island (no neighbors)')\n",
      "('WARNING: ', 169, ' is an island (no neighbors)')\n"
     ]
    },
    {
     "name": "stderr",
     "output_type": "stream",
     "text": [
      "/home/pedro/anaconda3/lib/python3.8/site-packages/libpysal/weights/weights.py:172: UserWarning: The weights matrix is not fully connected: \n",
      " There are 2 disconnected components.\n",
      "  warnings.warn(message)\n",
      "/home/pedro/anaconda3/lib/python3.8/site-packages/libpysal/weights/weights.py:172: UserWarning: The weights matrix is not fully connected: \n",
      " There are 7 disconnected components.\n",
      " There are 4 islands with ids: 24, 30, 133, 169.\n",
      "  warnings.warn(message)\n"
     ]
    },
    {
     "name": "stdout",
     "output_type": "stream",
     "text": [
      "('WARNING: ', 24, ' is an island (no neighbors)')\n",
      "('WARNING: ', 30, ' is an island (no neighbors)')\n",
      "('WARNING: ', 133, ' is an island (no neighbors)')\n",
      "('WARNING: ', 169, ' is an island (no neighbors)')\n"
     ]
    },
    {
     "name": "stderr",
     "output_type": "stream",
     "text": [
      "/home/pedro/anaconda3/lib/python3.8/site-packages/libpysal/weights/weights.py:172: UserWarning: The weights matrix is not fully connected: \n",
      " There are 2 disconnected components.\n",
      "  warnings.warn(message)\n",
      "/home/pedro/anaconda3/lib/python3.8/site-packages/libpysal/weights/weights.py:172: UserWarning: The weights matrix is not fully connected: \n",
      " There are 7 disconnected components.\n",
      " There are 4 islands with ids: 24, 30, 133, 169.\n",
      "  warnings.warn(message)\n"
     ]
    },
    {
     "name": "stdout",
     "output_type": "stream",
     "text": [
      "('WARNING: ', 24, ' is an island (no neighbors)')\n",
      "('WARNING: ', 30, ' is an island (no neighbors)')\n",
      "('WARNING: ', 133, ' is an island (no neighbors)')\n",
      "('WARNING: ', 169, ' is an island (no neighbors)')\n"
     ]
    },
    {
     "name": "stderr",
     "output_type": "stream",
     "text": [
      "/home/pedro/anaconda3/lib/python3.8/site-packages/libpysal/weights/weights.py:172: UserWarning: The weights matrix is not fully connected: \n",
      " There are 2 disconnected components.\n",
      "  warnings.warn(message)\n",
      "/home/pedro/anaconda3/lib/python3.8/site-packages/libpysal/weights/weights.py:172: UserWarning: The weights matrix is not fully connected: \n",
      " There are 7 disconnected components.\n",
      " There are 4 islands with ids: 24, 30, 133, 169.\n",
      "  warnings.warn(message)\n"
     ]
    },
    {
     "name": "stdout",
     "output_type": "stream",
     "text": [
      "('WARNING: ', 24, ' is an island (no neighbors)')\n",
      "('WARNING: ', 30, ' is an island (no neighbors)')\n",
      "('WARNING: ', 133, ' is an island (no neighbors)')\n",
      "('WARNING: ', 169, ' is an island (no neighbors)')\n"
     ]
    },
    {
     "name": "stderr",
     "output_type": "stream",
     "text": [
      "/home/pedro/anaconda3/lib/python3.8/site-packages/libpysal/weights/weights.py:172: UserWarning: The weights matrix is not fully connected: \n",
      " There are 2 disconnected components.\n",
      "  warnings.warn(message)\n",
      "/home/pedro/anaconda3/lib/python3.8/site-packages/libpysal/weights/weights.py:172: UserWarning: The weights matrix is not fully connected: \n",
      " There are 7 disconnected components.\n",
      " There are 4 islands with ids: 24, 30, 133, 169.\n",
      "  warnings.warn(message)\n"
     ]
    },
    {
     "name": "stdout",
     "output_type": "stream",
     "text": [
      "('WARNING: ', 24, ' is an island (no neighbors)')\n",
      "('WARNING: ', 30, ' is an island (no neighbors)')\n",
      "('WARNING: ', 133, ' is an island (no neighbors)')\n",
      "('WARNING: ', 169, ' is an island (no neighbors)')\n"
     ]
    },
    {
     "name": "stderr",
     "output_type": "stream",
     "text": [
      "/home/pedro/anaconda3/lib/python3.8/site-packages/libpysal/weights/weights.py:172: UserWarning: The weights matrix is not fully connected: \n",
      " There are 2 disconnected components.\n",
      "  warnings.warn(message)\n",
      "/home/pedro/anaconda3/lib/python3.8/site-packages/libpysal/weights/weights.py:172: UserWarning: The weights matrix is not fully connected: \n",
      " There are 7 disconnected components.\n",
      " There are 4 islands with ids: 24, 30, 133, 169.\n",
      "  warnings.warn(message)\n"
     ]
    },
    {
     "name": "stdout",
     "output_type": "stream",
     "text": [
      "('WARNING: ', 24, ' is an island (no neighbors)')\n",
      "('WARNING: ', 30, ' is an island (no neighbors)')\n",
      "('WARNING: ', 133, ' is an island (no neighbors)')\n",
      "('WARNING: ', 169, ' is an island (no neighbors)')\n"
     ]
    },
    {
     "name": "stderr",
     "output_type": "stream",
     "text": [
      "/home/pedro/anaconda3/lib/python3.8/site-packages/libpysal/weights/weights.py:172: UserWarning: The weights matrix is not fully connected: \n",
      " There are 2 disconnected components.\n",
      "  warnings.warn(message)\n"
     ]
    }
   ],
   "source": [
    "imedreg = base['name_immediate'].values.tolist()\n",
    "reg_code = base['imed_reg_code'].values.tolist()\n",
    "region = base['region'].values.tolist()\n",
    "pop = base['total_inhabitants'].values.tolist()\n",
    "\n",
    "for semana in semanas_1:\n",
    "    str_sem = str(semana)\n",
    "\n",
    "    \n",
    "    #Alterar aqui para mudar a semana analisada\n",
    "    sem = ri_geo[ri_geo['epidemiological_week'] == semana]\n",
    "\n",
    "    \n",
    "    #Cálculo do peso entre regiões\n",
    "    weights = Queen.from_dataframe(sem)\n",
    "    weights.transform = 'r'\n",
    "\n",
    "\n",
    "    #Consertando os erros causados pela digitalização\n",
    "    wnp = libpysal.weights.util.nonplanar_neighbors(weights, sem)\n",
    "    wnp.transform = 'r'\n",
    "\n",
    "    #Calcular spatial_auto\n",
    "    spatial_auto = esda.Moran_Local(sem['prevalence'], wnp, permutations=100000)\n",
    "    moran = esda.Moran(sem['prevalence'], wnp)\n",
    "\n",
    "    \n",
    "    \n",
    "    #I_local\n",
    "    local_Is = spatial_auto.Is\n",
    "    list_Is = local_Is.tolist()\n",
    "    \n",
    "    \n",
    "    \n",
    "    ## Cálculo do lag espacial e incidencia espacial normalizados\n",
    "    lag = libpysal.weights.spatial_lag.lag_spatial(wnp, sem['prevalence'])\n",
    "    norm_lag = ( lag - lag.mean() )\\\n",
    "                       / lag.std()\n",
    "\n",
    "    norm_incid = (sem['prevalence'] - sem['prevalence'].mean())\\\n",
    "                    /sem['prevalence'].std()\n",
    "    norm_incid = norm_incid.tolist()\n",
    "\n",
    "    \n",
    "    \n",
    "    ## Separando apenas os pontos significativos\n",
    "    sim_norm_incid = []\n",
    "    sim_norm_lag = []\n",
    "    points = []\n",
    "    cluster = spatial_auto.q.tolist()\n",
    "\n",
    "    for i, auto in enumerate(spatial_auto.p_sim):\n",
    "        sim = int(auto < 0.05)\n",
    "        sim_norm_incid.append(norm_incid[i] * sim)\n",
    "        sim_norm_lag.append(norm_lag[i] * sim)\n",
    "        points.append([sim_norm_incid[i],sim_norm_lag[i]])\n",
    "        cluster[i] = cluster[i] * sim \n",
    "\n",
    "\n",
    "\n",
    "        \n",
    "    ## Escrevendo os pontos como vetores em função do módulo e direção\n",
    "    vetores = []\n",
    "\n",
    "    for i, point in enumerate(points):\n",
    "        x = point[0]\n",
    "        y = point[1]\n",
    "        if x == 0:\n",
    "            if y < 0: \n",
    "                ang = 3 * (math.pi / 2)\n",
    "            else:\n",
    "                ang = (math.pi / 2) \n",
    "                \n",
    "        elif x * y > 0:\n",
    "            ang = math.atan(y/x) + (math.pi * int(y < 0)) \n",
    "        else: \n",
    "            ang = math.atan(y/x) + math.pi * (int(y < 0) + 1)\n",
    "\n",
    "        mod = math.sqrt(x*x + y*y)\n",
    "        if mod < 0:\n",
    "            print(mod)\n",
    "            break\n",
    "        vetores.append([ang])\n",
    "        vetores[i].append(mod)\n",
    "\n",
    "\n",
    "       \n",
    "    # conferindo os resultados\n",
    "    for i, point in enumerate(points):\n",
    "\n",
    "\n",
    "        x = round(point[0], 3)\n",
    "        y = round(point[1], 3)\n",
    "        x_est = round(math.cos(vetores[i][0]) * vetores[i][1], 3)\n",
    "        y_est = round(math.sin(vetores[i][0]) * vetores[i][1], 3)\n",
    "        if x != x_est or y != y_est:\n",
    "            print(x, y, x_est, y_est, vetores[i])\n",
    "\n",
    "        mod = vetores[i][1]\n",
    "\n",
    "\n",
    "        if x > 0 and x * y > 0 and cluster[i] != 1:\n",
    "            print (x, y, mod, cluster[i])\n",
    "            break\n",
    "        elif x < 0 and x * y > 0 and cluster[i] != 3:\n",
    "            print (x, y, mod, cluster[i])\n",
    "            break\n",
    "        elif x > 0 and x * y < 0 and cluster[i] != 4:\n",
    "            print (x, y, mod, cluster[i])\n",
    "            break\n",
    "        elif x < 0 and x * y < 0 and cluster[i] != 2:\n",
    "            print (x, y, mod, cluster[i])\n",
    "            break\n",
    "        elif mod > 0 and cluster[i] == 0:\n",
    "            print (x, y, mod, cluster[i])\n",
    "            break\n",
    "        elif mod == 0 and cluster[i] != 0:\n",
    "            print (x, y, mod, cluster[i])\n",
    "            break\n",
    "        elif mod < 0:\n",
    "            print (x, y, mod, cluster[i])\n",
    "            break\n",
    "\n",
    "\n",
    "    \n",
    "        \n",
    "    #Escreve CSV\n",
    "    with open('imedreg_prevalencia_' + str_sem + '.csv', 'w', encoding='utf-8', newline='') as lista:\n",
    "        writer = csv.writer(lista)\n",
    "\n",
    "        writer.writerow((\"imedreg\", \"imedreg_code\" \"populacao\", \"prevalencia_normalizada\", \"regiao\", 'cluster'))\n",
    "\n",
    "        for i in range(510):\n",
    "            writer.writerow((imedreg[i], reg_code[i], pop[i], norm_incid[i], region[i], cluster[i]))\n",
    "            \n"
   ]
  },
  {
   "cell_type": "code",
   "execution_count": 19,
   "metadata": {},
   "outputs": [
    {
     "name": "stderr",
     "output_type": "stream",
     "text": [
      "/home/pedro/anaconda3/lib/python3.8/site-packages/libpysal/weights/weights.py:172: UserWarning: The weights matrix is not fully connected: \n",
      " There are 7 disconnected components.\n",
      " There are 4 islands with ids: 24, 30, 133, 169.\n",
      "  warnings.warn(message)\n"
     ]
    },
    {
     "name": "stdout",
     "output_type": "stream",
     "text": [
      "('WARNING: ', 24, ' is an island (no neighbors)')\n",
      "('WARNING: ', 30, ' is an island (no neighbors)')\n",
      "('WARNING: ', 133, ' is an island (no neighbors)')\n",
      "('WARNING: ', 169, ' is an island (no neighbors)')\n"
     ]
    },
    {
     "name": "stderr",
     "output_type": "stream",
     "text": [
      "/home/pedro/anaconda3/lib/python3.8/site-packages/libpysal/weights/weights.py:172: UserWarning: The weights matrix is not fully connected: \n",
      " There are 2 disconnected components.\n",
      "  warnings.warn(message)\n",
      "/home/pedro/anaconda3/lib/python3.8/site-packages/libpysal/weights/weights.py:172: UserWarning: The weights matrix is not fully connected: \n",
      " There are 7 disconnected components.\n",
      " There are 4 islands with ids: 24, 30, 133, 169.\n",
      "  warnings.warn(message)\n"
     ]
    },
    {
     "name": "stdout",
     "output_type": "stream",
     "text": [
      "('WARNING: ', 24, ' is an island (no neighbors)')\n",
      "('WARNING: ', 30, ' is an island (no neighbors)')\n",
      "('WARNING: ', 133, ' is an island (no neighbors)')\n",
      "('WARNING: ', 169, ' is an island (no neighbors)')\n"
     ]
    },
    {
     "name": "stderr",
     "output_type": "stream",
     "text": [
      "/home/pedro/anaconda3/lib/python3.8/site-packages/libpysal/weights/weights.py:172: UserWarning: The weights matrix is not fully connected: \n",
      " There are 2 disconnected components.\n",
      "  warnings.warn(message)\n",
      "/home/pedro/anaconda3/lib/python3.8/site-packages/libpysal/weights/weights.py:172: UserWarning: The weights matrix is not fully connected: \n",
      " There are 7 disconnected components.\n",
      " There are 4 islands with ids: 24, 30, 133, 169.\n",
      "  warnings.warn(message)\n"
     ]
    },
    {
     "name": "stdout",
     "output_type": "stream",
     "text": [
      "('WARNING: ', 24, ' is an island (no neighbors)')\n",
      "('WARNING: ', 30, ' is an island (no neighbors)')\n",
      "('WARNING: ', 133, ' is an island (no neighbors)')\n",
      "('WARNING: ', 169, ' is an island (no neighbors)')\n"
     ]
    },
    {
     "name": "stderr",
     "output_type": "stream",
     "text": [
      "/home/pedro/anaconda3/lib/python3.8/site-packages/libpysal/weights/weights.py:172: UserWarning: The weights matrix is not fully connected: \n",
      " There are 2 disconnected components.\n",
      "  warnings.warn(message)\n",
      "/home/pedro/anaconda3/lib/python3.8/site-packages/libpysal/weights/weights.py:172: UserWarning: The weights matrix is not fully connected: \n",
      " There are 7 disconnected components.\n",
      " There are 4 islands with ids: 24, 30, 133, 169.\n",
      "  warnings.warn(message)\n"
     ]
    },
    {
     "name": "stdout",
     "output_type": "stream",
     "text": [
      "('WARNING: ', 24, ' is an island (no neighbors)')\n",
      "('WARNING: ', 30, ' is an island (no neighbors)')\n",
      "('WARNING: ', 133, ' is an island (no neighbors)')\n",
      "('WARNING: ', 169, ' is an island (no neighbors)')\n"
     ]
    },
    {
     "name": "stderr",
     "output_type": "stream",
     "text": [
      "/home/pedro/anaconda3/lib/python3.8/site-packages/libpysal/weights/weights.py:172: UserWarning: The weights matrix is not fully connected: \n",
      " There are 2 disconnected components.\n",
      "  warnings.warn(message)\n",
      "/home/pedro/anaconda3/lib/python3.8/site-packages/libpysal/weights/weights.py:172: UserWarning: The weights matrix is not fully connected: \n",
      " There are 7 disconnected components.\n",
      " There are 4 islands with ids: 24, 30, 133, 169.\n",
      "  warnings.warn(message)\n"
     ]
    },
    {
     "name": "stdout",
     "output_type": "stream",
     "text": [
      "('WARNING: ', 24, ' is an island (no neighbors)')\n",
      "('WARNING: ', 30, ' is an island (no neighbors)')\n",
      "('WARNING: ', 133, ' is an island (no neighbors)')\n",
      "('WARNING: ', 169, ' is an island (no neighbors)')\n"
     ]
    },
    {
     "name": "stderr",
     "output_type": "stream",
     "text": [
      "/home/pedro/anaconda3/lib/python3.8/site-packages/libpysal/weights/weights.py:172: UserWarning: The weights matrix is not fully connected: \n",
      " There are 2 disconnected components.\n",
      "  warnings.warn(message)\n",
      "/home/pedro/anaconda3/lib/python3.8/site-packages/libpysal/weights/weights.py:172: UserWarning: The weights matrix is not fully connected: \n",
      " There are 7 disconnected components.\n",
      " There are 4 islands with ids: 24, 30, 133, 169.\n",
      "  warnings.warn(message)\n"
     ]
    },
    {
     "name": "stdout",
     "output_type": "stream",
     "text": [
      "('WARNING: ', 24, ' is an island (no neighbors)')\n",
      "('WARNING: ', 30, ' is an island (no neighbors)')\n",
      "('WARNING: ', 133, ' is an island (no neighbors)')\n",
      "('WARNING: ', 169, ' is an island (no neighbors)')\n"
     ]
    },
    {
     "name": "stderr",
     "output_type": "stream",
     "text": [
      "/home/pedro/anaconda3/lib/python3.8/site-packages/libpysal/weights/weights.py:172: UserWarning: The weights matrix is not fully connected: \n",
      " There are 2 disconnected components.\n",
      "  warnings.warn(message)\n",
      "/home/pedro/anaconda3/lib/python3.8/site-packages/libpysal/weights/weights.py:172: UserWarning: The weights matrix is not fully connected: \n",
      " There are 7 disconnected components.\n",
      " There are 4 islands with ids: 24, 30, 133, 169.\n",
      "  warnings.warn(message)\n"
     ]
    },
    {
     "name": "stdout",
     "output_type": "stream",
     "text": [
      "('WARNING: ', 24, ' is an island (no neighbors)')\n",
      "('WARNING: ', 30, ' is an island (no neighbors)')\n",
      "('WARNING: ', 133, ' is an island (no neighbors)')\n",
      "('WARNING: ', 169, ' is an island (no neighbors)')\n"
     ]
    },
    {
     "name": "stderr",
     "output_type": "stream",
     "text": [
      "/home/pedro/anaconda3/lib/python3.8/site-packages/libpysal/weights/weights.py:172: UserWarning: The weights matrix is not fully connected: \n",
      " There are 2 disconnected components.\n",
      "  warnings.warn(message)\n",
      "/home/pedro/anaconda3/lib/python3.8/site-packages/libpysal/weights/weights.py:172: UserWarning: The weights matrix is not fully connected: \n",
      " There are 7 disconnected components.\n",
      " There are 4 islands with ids: 24, 30, 133, 169.\n",
      "  warnings.warn(message)\n"
     ]
    },
    {
     "name": "stdout",
     "output_type": "stream",
     "text": [
      "('WARNING: ', 24, ' is an island (no neighbors)')\n",
      "('WARNING: ', 30, ' is an island (no neighbors)')\n",
      "('WARNING: ', 133, ' is an island (no neighbors)')\n",
      "('WARNING: ', 169, ' is an island (no neighbors)')\n"
     ]
    },
    {
     "name": "stderr",
     "output_type": "stream",
     "text": [
      "/home/pedro/anaconda3/lib/python3.8/site-packages/libpysal/weights/weights.py:172: UserWarning: The weights matrix is not fully connected: \n",
      " There are 2 disconnected components.\n",
      "  warnings.warn(message)\n",
      "/home/pedro/anaconda3/lib/python3.8/site-packages/libpysal/weights/weights.py:172: UserWarning: The weights matrix is not fully connected: \n",
      " There are 7 disconnected components.\n",
      " There are 4 islands with ids: 24, 30, 133, 169.\n",
      "  warnings.warn(message)\n"
     ]
    },
    {
     "name": "stdout",
     "output_type": "stream",
     "text": [
      "('WARNING: ', 24, ' is an island (no neighbors)')\n",
      "('WARNING: ', 30, ' is an island (no neighbors)')\n",
      "('WARNING: ', 133, ' is an island (no neighbors)')\n",
      "('WARNING: ', 169, ' is an island (no neighbors)')\n"
     ]
    },
    {
     "name": "stderr",
     "output_type": "stream",
     "text": [
      "/home/pedro/anaconda3/lib/python3.8/site-packages/libpysal/weights/weights.py:172: UserWarning: The weights matrix is not fully connected: \n",
      " There are 2 disconnected components.\n",
      "  warnings.warn(message)\n",
      "/home/pedro/anaconda3/lib/python3.8/site-packages/libpysal/weights/weights.py:172: UserWarning: The weights matrix is not fully connected: \n",
      " There are 7 disconnected components.\n",
      " There are 4 islands with ids: 24, 30, 133, 169.\n",
      "  warnings.warn(message)\n"
     ]
    },
    {
     "name": "stdout",
     "output_type": "stream",
     "text": [
      "('WARNING: ', 24, ' is an island (no neighbors)')\n",
      "('WARNING: ', 30, ' is an island (no neighbors)')\n",
      "('WARNING: ', 133, ' is an island (no neighbors)')\n",
      "('WARNING: ', 169, ' is an island (no neighbors)')\n"
     ]
    },
    {
     "name": "stderr",
     "output_type": "stream",
     "text": [
      "/home/pedro/anaconda3/lib/python3.8/site-packages/libpysal/weights/weights.py:172: UserWarning: The weights matrix is not fully connected: \n",
      " There are 2 disconnected components.\n",
      "  warnings.warn(message)\n",
      "/home/pedro/anaconda3/lib/python3.8/site-packages/libpysal/weights/weights.py:172: UserWarning: The weights matrix is not fully connected: \n",
      " There are 7 disconnected components.\n",
      " There are 4 islands with ids: 24, 30, 133, 169.\n",
      "  warnings.warn(message)\n"
     ]
    },
    {
     "name": "stdout",
     "output_type": "stream",
     "text": [
      "('WARNING: ', 24, ' is an island (no neighbors)')\n",
      "('WARNING: ', 30, ' is an island (no neighbors)')\n",
      "('WARNING: ', 133, ' is an island (no neighbors)')\n",
      "('WARNING: ', 169, ' is an island (no neighbors)')\n"
     ]
    },
    {
     "name": "stderr",
     "output_type": "stream",
     "text": [
      "/home/pedro/anaconda3/lib/python3.8/site-packages/libpysal/weights/weights.py:172: UserWarning: The weights matrix is not fully connected: \n",
      " There are 2 disconnected components.\n",
      "  warnings.warn(message)\n",
      "/home/pedro/anaconda3/lib/python3.8/site-packages/libpysal/weights/weights.py:172: UserWarning: The weights matrix is not fully connected: \n",
      " There are 7 disconnected components.\n",
      " There are 4 islands with ids: 24, 30, 133, 169.\n",
      "  warnings.warn(message)\n"
     ]
    },
    {
     "name": "stdout",
     "output_type": "stream",
     "text": [
      "('WARNING: ', 24, ' is an island (no neighbors)')\n",
      "('WARNING: ', 30, ' is an island (no neighbors)')\n",
      "('WARNING: ', 133, ' is an island (no neighbors)')\n",
      "('WARNING: ', 169, ' is an island (no neighbors)')\n"
     ]
    },
    {
     "name": "stderr",
     "output_type": "stream",
     "text": [
      "/home/pedro/anaconda3/lib/python3.8/site-packages/libpysal/weights/weights.py:172: UserWarning: The weights matrix is not fully connected: \n",
      " There are 2 disconnected components.\n",
      "  warnings.warn(message)\n",
      "/home/pedro/anaconda3/lib/python3.8/site-packages/libpysal/weights/weights.py:172: UserWarning: The weights matrix is not fully connected: \n",
      " There are 7 disconnected components.\n",
      " There are 4 islands with ids: 24, 30, 133, 169.\n",
      "  warnings.warn(message)\n"
     ]
    },
    {
     "name": "stdout",
     "output_type": "stream",
     "text": [
      "('WARNING: ', 24, ' is an island (no neighbors)')\n",
      "('WARNING: ', 30, ' is an island (no neighbors)')\n",
      "('WARNING: ', 133, ' is an island (no neighbors)')\n",
      "('WARNING: ', 169, ' is an island (no neighbors)')\n"
     ]
    },
    {
     "name": "stderr",
     "output_type": "stream",
     "text": [
      "/home/pedro/anaconda3/lib/python3.8/site-packages/libpysal/weights/weights.py:172: UserWarning: The weights matrix is not fully connected: \n",
      " There are 2 disconnected components.\n",
      "  warnings.warn(message)\n",
      "/home/pedro/anaconda3/lib/python3.8/site-packages/libpysal/weights/weights.py:172: UserWarning: The weights matrix is not fully connected: \n",
      " There are 7 disconnected components.\n",
      " There are 4 islands with ids: 24, 30, 133, 169.\n",
      "  warnings.warn(message)\n"
     ]
    },
    {
     "name": "stdout",
     "output_type": "stream",
     "text": [
      "('WARNING: ', 24, ' is an island (no neighbors)')\n",
      "('WARNING: ', 30, ' is an island (no neighbors)')\n",
      "('WARNING: ', 133, ' is an island (no neighbors)')\n",
      "('WARNING: ', 169, ' is an island (no neighbors)')\n"
     ]
    },
    {
     "name": "stderr",
     "output_type": "stream",
     "text": [
      "/home/pedro/anaconda3/lib/python3.8/site-packages/libpysal/weights/weights.py:172: UserWarning: The weights matrix is not fully connected: \n",
      " There are 2 disconnected components.\n",
      "  warnings.warn(message)\n",
      "/home/pedro/anaconda3/lib/python3.8/site-packages/libpysal/weights/weights.py:172: UserWarning: The weights matrix is not fully connected: \n",
      " There are 7 disconnected components.\n",
      " There are 4 islands with ids: 24, 30, 133, 169.\n",
      "  warnings.warn(message)\n"
     ]
    },
    {
     "name": "stdout",
     "output_type": "stream",
     "text": [
      "('WARNING: ', 24, ' is an island (no neighbors)')\n",
      "('WARNING: ', 30, ' is an island (no neighbors)')\n",
      "('WARNING: ', 133, ' is an island (no neighbors)')\n",
      "('WARNING: ', 169, ' is an island (no neighbors)')\n"
     ]
    },
    {
     "name": "stderr",
     "output_type": "stream",
     "text": [
      "/home/pedro/anaconda3/lib/python3.8/site-packages/libpysal/weights/weights.py:172: UserWarning: The weights matrix is not fully connected: \n",
      " There are 2 disconnected components.\n",
      "  warnings.warn(message)\n",
      "/home/pedro/anaconda3/lib/python3.8/site-packages/libpysal/weights/weights.py:172: UserWarning: The weights matrix is not fully connected: \n",
      " There are 7 disconnected components.\n",
      " There are 4 islands with ids: 24, 30, 133, 169.\n",
      "  warnings.warn(message)\n"
     ]
    },
    {
     "name": "stdout",
     "output_type": "stream",
     "text": [
      "('WARNING: ', 24, ' is an island (no neighbors)')\n",
      "('WARNING: ', 30, ' is an island (no neighbors)')\n",
      "('WARNING: ', 133, ' is an island (no neighbors)')\n",
      "('WARNING: ', 169, ' is an island (no neighbors)')\n"
     ]
    },
    {
     "name": "stderr",
     "output_type": "stream",
     "text": [
      "/home/pedro/anaconda3/lib/python3.8/site-packages/libpysal/weights/weights.py:172: UserWarning: The weights matrix is not fully connected: \n",
      " There are 2 disconnected components.\n",
      "  warnings.warn(message)\n",
      "/home/pedro/anaconda3/lib/python3.8/site-packages/libpysal/weights/weights.py:172: UserWarning: The weights matrix is not fully connected: \n",
      " There are 7 disconnected components.\n",
      " There are 4 islands with ids: 24, 30, 133, 169.\n",
      "  warnings.warn(message)\n"
     ]
    },
    {
     "name": "stdout",
     "output_type": "stream",
     "text": [
      "('WARNING: ', 24, ' is an island (no neighbors)')\n",
      "('WARNING: ', 30, ' is an island (no neighbors)')\n",
      "('WARNING: ', 133, ' is an island (no neighbors)')\n",
      "('WARNING: ', 169, ' is an island (no neighbors)')\n"
     ]
    },
    {
     "name": "stderr",
     "output_type": "stream",
     "text": [
      "/home/pedro/anaconda3/lib/python3.8/site-packages/libpysal/weights/weights.py:172: UserWarning: The weights matrix is not fully connected: \n",
      " There are 2 disconnected components.\n",
      "  warnings.warn(message)\n",
      "/home/pedro/anaconda3/lib/python3.8/site-packages/libpysal/weights/weights.py:172: UserWarning: The weights matrix is not fully connected: \n",
      " There are 7 disconnected components.\n",
      " There are 4 islands with ids: 24, 30, 133, 169.\n",
      "  warnings.warn(message)\n"
     ]
    },
    {
     "name": "stdout",
     "output_type": "stream",
     "text": [
      "('WARNING: ', 24, ' is an island (no neighbors)')\n",
      "('WARNING: ', 30, ' is an island (no neighbors)')\n",
      "('WARNING: ', 133, ' is an island (no neighbors)')\n",
      "('WARNING: ', 169, ' is an island (no neighbors)')\n"
     ]
    },
    {
     "name": "stderr",
     "output_type": "stream",
     "text": [
      "/home/pedro/anaconda3/lib/python3.8/site-packages/libpysal/weights/weights.py:172: UserWarning: The weights matrix is not fully connected: \n",
      " There are 2 disconnected components.\n",
      "  warnings.warn(message)\n"
     ]
    }
   ],
   "source": [
    "imedreg = base['name_immediate'].values.tolist()\n",
    "reg_code = base['imed_reg_code'].values.tolist()\n",
    "region = base['region'].values.tolist()\n",
    "pop = base['total_inhabitants'].values.tolist()\n",
    "\n",
    "for semana in semanas_1:\n",
    "    str_sem = str(semana)\n",
    "\n",
    "    \n",
    "    #Alterar aqui para mudar a semana analisada\n",
    "    sem = ri_geo[ri_geo['epidemiological_week'] == semana]\n",
    "\n",
    "    \n",
    "    #Cálculo do peso entre regiões\n",
    "    weights = Queen.from_dataframe(sem)\n",
    "    weights.transform = 'r'\n",
    "\n",
    "\n",
    "    #Consertando os erros causados pela digitalização\n",
    "    wnp = libpysal.weights.util.nonplanar_neighbors(weights, sem)\n",
    "    wnp.transform = 'r'\n",
    "\n",
    "    #Calcular spatial_auto\n",
    "    spatial_auto = esda.Moran_Local(sem['lethality'], wnp, permutations=100000)\n",
    "    moran = esda.Moran(sem['lethality'], wnp)\n",
    "\n",
    "    \n",
    "    \n",
    "    #I_local\n",
    "    local_Is = spatial_auto.Is\n",
    "    list_Is = local_Is.tolist()\n",
    "    \n",
    "    \n",
    "    \n",
    "    ## Cálculo do lag espacial e incidencia espacial normalizados\n",
    "    lag = libpysal.weights.spatial_lag.lag_spatial(wnp, sem['lethality'])\n",
    "    norm_lag = ( lag - lag.mean() )\\\n",
    "                       / lag.std()\n",
    "\n",
    "    norm_incid = (sem['lethality'] - sem['lethality'].mean())\\\n",
    "                    /sem['lethality'].std()\n",
    "    norm_incid = norm_incid.tolist()\n",
    "\n",
    "    \n",
    "    \n",
    "    ## Separando apenas os pontos significativos\n",
    "    sim_norm_incid = []\n",
    "    sim_norm_lag = []\n",
    "    points = []\n",
    "    cluster = spatial_auto.q.tolist()\n",
    "\n",
    "    for i, auto in enumerate(spatial_auto.p_sim):\n",
    "        sim = int(auto < 0.05)\n",
    "        sim_norm_incid.append(norm_incid[i] * sim)\n",
    "        sim_norm_lag.append(norm_lag[i] * sim)\n",
    "        points.append([sim_norm_incid[i],sim_norm_lag[i]])\n",
    "        cluster[i] = cluster[i] * sim \n",
    "\n",
    "\n",
    "\n",
    "        \n",
    "    ## Escrevendo os pontos como vetores em função do módulo e direção\n",
    "    vetores = []\n",
    "\n",
    "    for i, point in enumerate(points):\n",
    "        x = point[0]\n",
    "        y = point[1]\n",
    "        if x == 0:\n",
    "            if y < 0: \n",
    "                ang = 3 * (math.pi / 2)\n",
    "            else:\n",
    "                ang = (math.pi / 2) \n",
    "                \n",
    "        elif x * y > 0:\n",
    "            ang = math.atan(y/x) + (math.pi * int(y < 0)) \n",
    "        else: \n",
    "            ang = math.atan(y/x) + math.pi * (int(y < 0) + 1)\n",
    "\n",
    "        mod = math.sqrt(x*x + y*y)\n",
    "        if mod < 0:\n",
    "            print(mod)\n",
    "            break\n",
    "        vetores.append([ang])\n",
    "        vetores[i].append(mod)\n",
    "\n",
    "\n",
    "       \n",
    "    # conferindo os resultados\n",
    "    for i, point in enumerate(points):\n",
    "\n",
    "\n",
    "        x = round(point[0], 3)\n",
    "        y = round(point[1], 3)\n",
    "        x_est = round(math.cos(vetores[i][0]) * vetores[i][1], 3)\n",
    "        y_est = round(math.sin(vetores[i][0]) * vetores[i][1], 3)\n",
    "        if x != x_est or y != y_est:\n",
    "            print(x, y, x_est, y_est, vetores[i])\n",
    "\n",
    "        mod = vetores[i][1]\n",
    "\n",
    "\n",
    "        if x > 0 and x * y > 0 and cluster[i] != 1:\n",
    "            print (x, y, mod, cluster[i])\n",
    "            break\n",
    "        elif x < 0 and x * y > 0 and cluster[i] != 3:\n",
    "            print (x, y, mod, cluster[i])\n",
    "            break\n",
    "        elif x > 0 and x * y < 0 and cluster[i] != 4:\n",
    "            print (x, y, mod, cluster[i])\n",
    "            break\n",
    "        elif x < 0 and x * y < 0 and cluster[i] != 2:\n",
    "            print (x, y, mod, cluster[i])\n",
    "            break\n",
    "        elif mod > 0 and cluster[i] == 0:\n",
    "            print (x, y, mod, cluster[i])\n",
    "            break\n",
    "        elif mod == 0 and cluster[i] != 0:\n",
    "            print (x, y, mod, cluster[i])\n",
    "            break\n",
    "        elif mod < 0:\n",
    "            print (x, y, mod, cluster[i])\n",
    "            break\n",
    "\n",
    "\n",
    "    \n",
    "        \n",
    "    #Escreve CSV\n",
    "    with open('imedreg_letalidade_' + str_sem + '.csv', 'w', encoding='utf-8', newline='') as lista:\n",
    "        writer = csv.writer(lista)\n",
    "\n",
    "        writer.writerow((\"imedreg\", \"imedreg_code\" \"populacao\", \"letalidade_normalizada\", \"regiao\", 'cluster'))\n",
    "\n",
    "        for i in range(510):\n",
    "            writer.writerow((imedreg[i], reg_code[i], pop[i], norm_incid[i], region[i], cluster[i]))\n",
    "            \n"
   ]
  },
  {
   "cell_type": "code",
   "execution_count": null,
   "metadata": {},
   "outputs": [],
   "source": [
    "for semana in semanas:\n",
    "    str_sem = str(semana)\n",
    "\n",
    "    \n",
    "    #Alterar aqui para mudar a semana analisada\n",
    "    sem = ri_geo[ri_geo['epidemiological_week'] == semana]\n",
    "\n",
    "    \n",
    "    #Cálculo do peso entre regiões\n",
    "    weights = Queen.from_dataframe(sem)\n",
    "    weights.transform = 'r'\n",
    "\n",
    "\n",
    "    #Consertando os erros causados pela digitalização\n",
    "    wnp = libpysal.weights.util.nonplanar_neighbors(weights, sem)\n",
    "    wnp.transform = 'r'\n",
    "\n",
    "    #Calcular spatial_auto\n",
    "    spatial_auto = esda.Moran_Local(sem['incidence_cases'], wnp, permutations=100000)\n",
    "    moran = esda.Moran(sem['incidence_cases'], wnp)\n",
    "    \n",
    "    lisa_cluster(spatial_auto, sem, p=0.05, figsize = (20,15))\n",
    "    plt.show()"
   ]
  },
  {
   "cell_type": "code",
   "execution_count": null,
   "metadata": {},
   "outputs": [],
   "source": []
  }
 ],
 "metadata": {
  "kernelspec": {
   "display_name": "Python 3",
   "language": "python",
   "name": "python3"
  },
  "language_info": {
   "codemirror_mode": {
    "name": "ipython",
    "version": 3
   },
   "file_extension": ".py",
   "mimetype": "text/x-python",
   "name": "python",
   "nbconvert_exporter": "python",
   "pygments_lexer": "ipython3",
   "version": "3.8.5"
  }
 },
 "nbformat": 4,
 "nbformat_minor": 4
}
